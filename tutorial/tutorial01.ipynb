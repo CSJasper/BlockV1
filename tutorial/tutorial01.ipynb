{
 "cells": [
  {
   "cell_type": "markdown",
   "metadata": {},
   "source": [
    "# 파이썬 튜토리얼01에 오신 것을 환영합니다.\n",
    "\n",
    "이번 시간에는 `if statement`에 대해서 배워볼 거에요.\n",
    "\n",
    "`if`는 `elif`와 `else`와 같이 사용할 수 있습니다.\n",
    "\n",
    "다음과 같이 사용할 수 있어요!\n",
    "\n",
    "```python3\n",
    "if 조건:\n",
    "    실행할 코드\n",
    "elif 조건: (optional)\n",
    "    실행할 코드\n",
    "else: (optional)\n",
    "    실행할 코드\n",
    "```\n",
    "여기서 알 수 있는 점은 `if`와 `elif`에서는 `조건`이라는 말이 있지만 `else`의 경우에는 `조건`없이 사용할 수 있어요. 그러나 `else`는 혼자 쓰일 수 없고 반드시 `if`와 같이 사용해야 해요!"
   ]
  },
  {
   "cell_type": "markdown",
   "metadata": {},
   "source": [
    "이제 다음 문장을 `if-elif-else`를 사용하여 나타내 볼까요?\n",
    "> `x`가 0보다 크면 `positive`를 출력(`print`)하세요\n",
    "> `x`가 0 보다 작으면 `negative`를 출력(`print`)하세요\n",
    "> `x`가 0이면 `zero`를 출력(`print`)하세요"
   ]
  },
  {
   "cell_type": "code",
   "execution_count": null,
   "metadata": {},
   "outputs": [],
   "source": [
    "import random\n",
    "\n",
    "x = random.randint(-1, 1)\n",
    "\n",
    "if x > 0:\n",
    "    print('positive')\n",
    "elif x < 0:\n",
    "    print('negative')\n",
    "else:\n",
    "    print('zero')"
   ]
  },
  {
   "cell_type": "markdown",
   "metadata": {},
   "source": []
  }
 ],
 "metadata": {
  "language_info": {
   "name": "python"
  },
  "orig_nbformat": 4
 },
 "nbformat": 4,
 "nbformat_minor": 2
}
